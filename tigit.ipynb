{
 "cells": [
  {
   "cell_type": "code",
   "execution_count": 11,
   "metadata": {},
   "outputs": [],
   "source": [
    "import pandas as pd\n",
    "\n",
    "csv_file = 'data/TIGIT CYTO_MA 3202024.xlsx'\n",
    "df_mfi = pd.read_excel(csv_file, sheet_name=\"MFI\")\n",
    "df_tigit = pd.read_excel(csv_file, sheet_name=\"TIGIT\")"
   ]
  },
  {
   "cell_type": "code",
   "execution_count": 12,
   "metadata": {},
   "outputs": [],
   "source": [
    "df_mfi.iloc[:, 1:] = df_mfi.iloc[:, 1:].apply(lambda x: x.mask(x < 0, 0))"
   ]
  },
  {
   "cell_type": "code",
   "execution_count": 13,
   "metadata": {},
   "outputs": [
    {
     "data": {
      "text/html": [
       "<div>\n",
       "<style scoped>\n",
       "    .dataframe tbody tr th:only-of-type {\n",
       "        vertical-align: middle;\n",
       "    }\n",
       "\n",
       "    .dataframe tbody tr th {\n",
       "        vertical-align: top;\n",
       "    }\n",
       "\n",
       "    .dataframe thead th {\n",
       "        text-align: right;\n",
       "    }\n",
       "</style>\n",
       "<table border=\"1\" class=\"dataframe\">\n",
       "  <thead>\n",
       "    <tr style=\"text-align: right;\">\n",
       "      <th></th>\n",
       "      <th>group</th>\n",
       "      <th>IFNγ</th>\n",
       "      <th>IL1β</th>\n",
       "      <th>IL4</th>\n",
       "      <th>IL5</th>\n",
       "      <th>IL10</th>\n",
       "      <th>IL13</th>\n",
       "      <th>IL17</th>\n",
       "    </tr>\n",
       "  </thead>\n",
       "  <tbody>\n",
       "    <tr>\n",
       "      <th>0</th>\n",
       "      <td>Control mMDSCs</td>\n",
       "      <td>8879</td>\n",
       "      <td>34764</td>\n",
       "      <td>42074</td>\n",
       "      <td>12041</td>\n",
       "      <td>6900</td>\n",
       "      <td>93747</td>\n",
       "      <td>17623</td>\n",
       "    </tr>\n",
       "    <tr>\n",
       "      <th>1</th>\n",
       "      <td>dBT114 mMDSCs</td>\n",
       "      <td>8035</td>\n",
       "      <td>26608</td>\n",
       "      <td>21000</td>\n",
       "      <td>11972</td>\n",
       "      <td>6353</td>\n",
       "      <td>123578</td>\n",
       "      <td>15706</td>\n",
       "    </tr>\n",
       "    <tr>\n",
       "      <th>2</th>\n",
       "      <td>dBT116 mMDSCs</td>\n",
       "      <td>4064</td>\n",
       "      <td>24654</td>\n",
       "      <td>98004</td>\n",
       "      <td>10048</td>\n",
       "      <td>5361</td>\n",
       "      <td>101356</td>\n",
       "      <td>13171</td>\n",
       "    </tr>\n",
       "    <tr>\n",
       "      <th>3</th>\n",
       "      <td>dBT120 mMDSCs</td>\n",
       "      <td>11615</td>\n",
       "      <td>29487</td>\n",
       "      <td>14816</td>\n",
       "      <td>10622</td>\n",
       "      <td>6644</td>\n",
       "      <td>114837</td>\n",
       "      <td>16468</td>\n",
       "    </tr>\n",
       "    <tr>\n",
       "      <th>4</th>\n",
       "      <td>Control NCM</td>\n",
       "      <td>5914</td>\n",
       "      <td>47786</td>\n",
       "      <td>22703</td>\n",
       "      <td>12714</td>\n",
       "      <td>6394</td>\n",
       "      <td>62471</td>\n",
       "      <td>11931</td>\n",
       "    </tr>\n",
       "  </tbody>\n",
       "</table>\n",
       "</div>"
      ],
      "text/plain": [
       "            group   IFNγ   IL1β    IL4    IL5  IL10    IL13   IL17\n",
       "0  Control mMDSCs   8879  34764  42074  12041  6900   93747  17623\n",
       "1   dBT114 mMDSCs   8035  26608  21000  11972  6353  123578  15706\n",
       "2   dBT116 mMDSCs   4064  24654  98004  10048  5361  101356  13171\n",
       "3   dBT120 mMDSCs  11615  29487  14816  10622  6644  114837  16468\n",
       "4     Control NCM   5914  47786  22703  12714  6394   62471  11931"
      ]
     },
     "metadata": {},
     "output_type": "display_data"
    },
    {
     "data": {
      "text/html": [
       "<div>\n",
       "<style scoped>\n",
       "    .dataframe tbody tr th:only-of-type {\n",
       "        vertical-align: middle;\n",
       "    }\n",
       "\n",
       "    .dataframe tbody tr th {\n",
       "        vertical-align: top;\n",
       "    }\n",
       "\n",
       "    .dataframe thead th {\n",
       "        text-align: right;\n",
       "    }\n",
       "</style>\n",
       "<table border=\"1\" class=\"dataframe\">\n",
       "  <thead>\n",
       "    <tr style=\"text-align: right;\">\n",
       "      <th></th>\n",
       "      <th>group</th>\n",
       "      <th>IFNγ</th>\n",
       "      <th>IL1β</th>\n",
       "      <th>IL4</th>\n",
       "      <th>IL5</th>\n",
       "      <th>IL10</th>\n",
       "      <th>IL13</th>\n",
       "      <th>IL17</th>\n",
       "    </tr>\n",
       "  </thead>\n",
       "  <tbody>\n",
       "    <tr>\n",
       "      <th>0</th>\n",
       "      <td>Control mMDSCs</td>\n",
       "      <td>39.30</td>\n",
       "      <td>4.9</td>\n",
       "      <td>18.50</td>\n",
       "      <td>14.00</td>\n",
       "      <td>20.80</td>\n",
       "      <td>50.3</td>\n",
       "      <td>10.20</td>\n",
       "    </tr>\n",
       "    <tr>\n",
       "      <th>1</th>\n",
       "      <td>dBT114 mMDSCs</td>\n",
       "      <td>12.30</td>\n",
       "      <td>33.4</td>\n",
       "      <td>17.10</td>\n",
       "      <td>42.10</td>\n",
       "      <td>7.39</td>\n",
       "      <td>81.9</td>\n",
       "      <td>0.84</td>\n",
       "    </tr>\n",
       "    <tr>\n",
       "      <th>2</th>\n",
       "      <td>dBT116 mMDSCs</td>\n",
       "      <td>10.70</td>\n",
       "      <td>18.3</td>\n",
       "      <td>10.60</td>\n",
       "      <td>24.20</td>\n",
       "      <td>4.50</td>\n",
       "      <td>53.1</td>\n",
       "      <td>2.79</td>\n",
       "    </tr>\n",
       "    <tr>\n",
       "      <th>3</th>\n",
       "      <td>dBT120 mMDSCs</td>\n",
       "      <td>8.11</td>\n",
       "      <td>32.0</td>\n",
       "      <td>3.73</td>\n",
       "      <td>49.00</td>\n",
       "      <td>12.90</td>\n",
       "      <td>74.8</td>\n",
       "      <td>2.32</td>\n",
       "    </tr>\n",
       "    <tr>\n",
       "      <th>4</th>\n",
       "      <td>Control NCM</td>\n",
       "      <td>42.70</td>\n",
       "      <td>4.8</td>\n",
       "      <td>32.90</td>\n",
       "      <td>8.24</td>\n",
       "      <td>16.60</td>\n",
       "      <td>35.1</td>\n",
       "      <td>4.78</td>\n",
       "    </tr>\n",
       "  </tbody>\n",
       "</table>\n",
       "</div>"
      ],
      "text/plain": [
       "            group   IFNγ  IL1β    IL4    IL5   IL10  IL13   IL17\n",
       "0  Control mMDSCs  39.30   4.9  18.50  14.00  20.80  50.3  10.20\n",
       "1   dBT114 mMDSCs  12.30  33.4  17.10  42.10   7.39  81.9   0.84\n",
       "2   dBT116 mMDSCs  10.70  18.3  10.60  24.20   4.50  53.1   2.79\n",
       "3   dBT120 mMDSCs   8.11  32.0   3.73  49.00  12.90  74.8   2.32\n",
       "4     Control NCM  42.70   4.8  32.90   8.24  16.60  35.1   4.78"
      ]
     },
     "metadata": {},
     "output_type": "display_data"
    }
   ],
   "source": [
    "display(df_mfi.head())\n",
    "display(df_tigit.head())"
   ]
  },
  {
   "cell_type": "markdown",
   "metadata": {},
   "source": [
    "# Normalize\n",
    "\n",
    "Normalize the expression of cytokines from range of 0-1"
   ]
  },
  {
   "cell_type": "code",
   "execution_count": 14,
   "metadata": {},
   "outputs": [
    {
     "data": {
      "text/plain": [
       "Index(['IFNγ', 'IL1β', 'IL4', 'IL5', 'IL10', 'IL13', 'IL17'], dtype='object')"
      ]
     },
     "execution_count": 14,
     "metadata": {},
     "output_type": "execute_result"
    }
   ],
   "source": [
    "cytokine_cols = df_mfi.columns[1:]\n",
    "cytokine_cols"
   ]
  },
  {
   "cell_type": "code",
   "execution_count": 15,
   "metadata": {},
   "outputs": [
    {
     "data": {
      "text/plain": [
       "123578"
      ]
     },
     "execution_count": 15,
     "metadata": {},
     "output_type": "execute_result"
    }
   ],
   "source": [
    "df_mfi.loc[:, cytokine_cols].max().max()"
   ]
  },
  {
   "cell_type": "code",
   "execution_count": 16,
   "metadata": {},
   "outputs": [],
   "source": [
    "for col in cytokine_cols:\n",
    "  df_mfi[col] = df_mfi[col].astype('float64')"
   ]
  },
  {
   "cell_type": "code",
   "execution_count": 17,
   "metadata": {},
   "outputs": [],
   "source": [
    "df_mfi.loc[:, cytokine_cols] = df_mfi.loc[:, cytokine_cols] / df_mfi.loc[:, cytokine_cols].max().max()"
   ]
  },
  {
   "cell_type": "code",
   "execution_count": 18,
   "metadata": {},
   "outputs": [
    {
     "data": {
      "text/html": [
       "<div>\n",
       "<style scoped>\n",
       "    .dataframe tbody tr th:only-of-type {\n",
       "        vertical-align: middle;\n",
       "    }\n",
       "\n",
       "    .dataframe tbody tr th {\n",
       "        vertical-align: top;\n",
       "    }\n",
       "\n",
       "    .dataframe thead th {\n",
       "        text-align: right;\n",
       "    }\n",
       "</style>\n",
       "<table border=\"1\" class=\"dataframe\">\n",
       "  <thead>\n",
       "    <tr style=\"text-align: right;\">\n",
       "      <th></th>\n",
       "      <th>group</th>\n",
       "      <th>marker</th>\n",
       "      <th>MFI</th>\n",
       "      <th>cells (%)</th>\n",
       "    </tr>\n",
       "  </thead>\n",
       "  <tbody>\n",
       "    <tr>\n",
       "      <th>0</th>\n",
       "      <td>Control mMDSCs</td>\n",
       "      <td>IFNγ</td>\n",
       "      <td>0.071849</td>\n",
       "      <td>39.3</td>\n",
       "    </tr>\n",
       "    <tr>\n",
       "      <th>1</th>\n",
       "      <td>Control mMDSCs</td>\n",
       "      <td>IL1β</td>\n",
       "      <td>0.281312</td>\n",
       "      <td>4.9</td>\n",
       "    </tr>\n",
       "    <tr>\n",
       "      <th>2</th>\n",
       "      <td>Control mMDSCs</td>\n",
       "      <td>IL4</td>\n",
       "      <td>0.340465</td>\n",
       "      <td>18.5</td>\n",
       "    </tr>\n",
       "    <tr>\n",
       "      <th>3</th>\n",
       "      <td>Control mMDSCs</td>\n",
       "      <td>IL5</td>\n",
       "      <td>0.097436</td>\n",
       "      <td>14.0</td>\n",
       "    </tr>\n",
       "    <tr>\n",
       "      <th>4</th>\n",
       "      <td>Control mMDSCs</td>\n",
       "      <td>IL10</td>\n",
       "      <td>0.055835</td>\n",
       "      <td>20.8</td>\n",
       "    </tr>\n",
       "  </tbody>\n",
       "</table>\n",
       "</div>"
      ],
      "text/plain": [
       "            group marker       MFI  cells (%)\n",
       "0  Control mMDSCs   IFNγ  0.071849       39.3\n",
       "1  Control mMDSCs   IL1β  0.281312        4.9\n",
       "2  Control mMDSCs    IL4  0.340465       18.5\n",
       "3  Control mMDSCs    IL5  0.097436       14.0\n",
       "4  Control mMDSCs   IL10  0.055835       20.8"
      ]
     },
     "execution_count": 18,
     "metadata": {},
     "output_type": "execute_result"
    }
   ],
   "source": [
    "markers = df_mfi.columns[1:].to_list()\n",
    "groups = df_mfi['group'].to_list()\n",
    "\n",
    "data = []\n",
    "for gid, group in enumerate(groups):\n",
    "  for mid, marker in enumerate(markers):\n",
    "    data.append([group, marker, df_mfi.iat[gid, mid+1], df_tigit.iat[gid, mid+1]])\n",
    "df = pd.DataFrame(data, columns=['group', 'marker', 'MFI', 'cells (%)'])\n",
    "df.head()"
   ]
  },
  {
   "cell_type": "code",
   "execution_count": 19,
   "metadata": {},
   "outputs": [],
   "source": [
    "import matplotlib.pyplot as plt\n",
    "import seaborn as sns\n",
    "# sns.set_theme()\n",
    "sns.set_theme(style='whitegrid')\n",
    "# sns.set_context(\"notebook\", font_scale=1.5)"
   ]
  },
  {
   "cell_type": "code",
   "execution_count": 20,
   "metadata": {},
   "outputs": [
    {
     "data": {
      "image/png": "[encoded data removed]",
      "text/plain": [
       "<Figure size 800x700 with 2 Axes>"
      ]
     },
     "metadata": {},
     "output_type": "display_data"
    }
   ],
   "source": [
    "from matplotlib.lines import Line2D\n",
    "\n",
    "norm_tigit = plt.Normalize(0, df['cells (%)'].max())\n",
    "norm_mfi = plt.Normalize(0, 1)\n",
    "sm = plt.cm.ScalarMappable(cmap=\"Reds\", norm=norm_mfi)\n",
    "\n",
    "plt.figure(figsize=(8, 7))\n",
    "g = sns.scatterplot(\n",
    "  data=df,\n",
    "  x='marker', y='group', size='cells (%)', hue='MFI',\n",
    "  palette=\"Reds\", hue_norm=norm_mfi, edgecolor=\".7\",\n",
    "  sizes=(20, 500), size_norm=norm_tigit,\n",
    ")\n",
    "g.set(xlabel=\"\", ylabel=\"\")\n",
    "g.grid(False)\n",
    "g.figure.colorbar(sm, \n",
    "                  ax=g, orientation='horizontal', \n",
    "                  shrink=0.5, anchor=(2.1, 3),\n",
    "                  label='Mean Fluorescence Intensity (MFI)')\n",
    "legend_elements = [\n",
    "  Line2D([0], [0], marker='o', color='w', label=0, markerfacecolor='grey', markersize=5),\n",
    "  Line2D([0], [0], marker='o', color='w', label=15, markerfacecolor='grey', markersize=10),\n",
    "  Line2D([0], [0], marker='o', color='w', label=30, markerfacecolor='grey', markersize=15),\n",
    "  Line2D([0], [0], marker='o', color='w', label=45, markerfacecolor='grey', markersize=20),\n",
    "  Line2D([0], [0], marker='o', color='w', label=60, markerfacecolor='grey', markersize=25),\n",
    "  Line2D([0], [0], marker='o', color='w', label=75, markerfacecolor='grey', markersize=30),\n",
    "]\n",
    "legend = g.legend(\n",
    "    handles=legend_elements,\n",
    "    labelspacing=1.6,\n",
    "    frameon=False,\n",
    "    loc='center left', \n",
    "    bbox_to_anchor=(1.18, 0.6), \n",
    "    title='(%) of TIGIT+ cells')\n",
    "plt.show()"
   ]
  },
  {
   "cell_type": "code",
   "execution_count": null,
   "metadata": {},
   "outputs": [],
   "source": []
  },
  {
   "cell_type": "code",
   "execution_count": null,
   "metadata": {},
   "outputs": [],
   "source": []
  }
 ],
 "metadata": {
  "kernelspec": {
   "display_name": "quesmedgpt-aq3t9tya-py3.12",
   "language": "python",
   "name": "python3"
  },
  "language_info": {
   "codemirror_mode": {
    "name": "ipython",
    "version": 3
   },
   "file_extension": ".py",
   "mimetype": "text/x-python",
   "name": "python",
   "nbconvert_exporter": "python",
   "pygments_lexer": "ipython3",
   "version": "3.12.1"
  }
 },
 "nbformat": 4,
 "nbformat_minor": 2
}
